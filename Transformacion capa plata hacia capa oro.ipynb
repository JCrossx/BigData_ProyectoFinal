{
 "cells": [
  {
   "cell_type": "code",
   "execution_count": 0,
   "metadata": {
    "application/vnd.databricks.v1+cell": {
     "cellMetadata": {
      "byteLimit": 2048000,
      "rowLimit": 10000
     },
     "inputWidgets": {},
     "nuid": "704b6334-5b23-4b63-9df3-65c8ac38398b",
     "showTitle": false,
     "tableResultSettingsMap": {},
     "title": ""
    }
   },
   "outputs": [
    {
     "output_type": "display_data",
     "data": {
      "text/html": [
       "<style scoped>\n",
       "  .ansiout {\n",
       "    display: block;\n",
       "    unicode-bidi: embed;\n",
       "    white-space: pre-wrap;\n",
       "    word-wrap: break-word;\n",
       "    word-break: break-all;\n",
       "    font-family: \"Menlo\", \"Monaco\", \"Consolas\", \"Ubuntu Mono\", \"Source Code Pro\", monospace;\n",
       "    font-size: 13px;\n",
       "    color: #555;\n",
       "    margin-left: 4px;\n",
       "    line-height: 19px;\n",
       "  }\n",
       "</style>\n",
       "<div class=\"ansiout\">storageAccount: String = ybenitez01\n",
       "container: String = ybenitezcont\n",
       "sasKey: String = sv=2022-11-02&amp;ss=bfqt&amp;srt=sco&amp;sp=rwdlacupyx&amp;se=2024-12-30T13:18:10Z&amp;st=2024-12-07T05:18:10Z&amp;spr=https&amp;sig=cQ9QV5TihwUaOIH6YRE7N9ueD94NN0KWBVogNkLSlXs%3D\n",
       "conf: String = fs.azure.sas.ybenitezcont.ybenitez01.blob.core.windows.net\n",
       "res0: Boolean = true\n",
       "</div>"
      ]
     },
     "metadata": {
      "application/vnd.databricks.v1+output": {
       "addedWidgets": {},
       "arguments": {},
       "data": "<div class=\"ansiout\">storageAccount: String = ybenitez01\ncontainer: String = ybenitezcont\nsasKey: String = sv=2022-11-02&amp;ss=bfqt&amp;srt=sco&amp;sp=rwdlacupyx&amp;se=2024-12-30T13:18:10Z&amp;st=2024-12-07T05:18:10Z&amp;spr=https&amp;sig=cQ9QV5TihwUaOIH6YRE7N9ueD94NN0KWBVogNkLSlXs%3D\nconf: String = fs.azure.sas.ybenitezcont.ybenitez01.blob.core.windows.net\nres0: Boolean = true\n</div>",
       "datasetInfos": [],
       "metadata": {
        "isDbfsCommandResult": false
       },
       "removedWidgets": [],
       "type": "html"
      }
     },
     "output_type": "display_data"
    }
   ],
   "source": [
    "%scala\n",
    "\n",
    "val storageAccount = \"ybenitez01\"\n",
    "val container = \"ybenitezcont\"\n",
    "val sasKey = \"sv=2022-11-02&ss=bfqt&srt=sco&sp=rwdlacupyx&se=2024-12-30T13:18:10Z&st=2024-12-07T05:18:10Z&spr=https&sig=cQ9QV5TihwUaOIH6YRE7N9ueD94NN0KWBVogNkLSlXs%3D\"\n",
    "\n",
    "val conf = \"fs.azure.sas.\" + container + \".\" + storageAccount + \".blob.core.windows.net\"\n",
    "\n",
    "dbutils.fs.mount(source=\"wasbs://\" + container + \"@\" + storageAccount + \".blob.core.windows.net\", mountPoint=\"/mnt/\" + container, extraConfigs=Map(conf -> sasKey))"
   ]
  },
  {
   "cell_type": "code",
   "execution_count": 0,
   "metadata": {
    "application/vnd.databricks.v1+cell": {
     "cellMetadata": {
      "byteLimit": 2048000,
      "rowLimit": 10000
     },
     "inputWidgets": {},
     "nuid": "f66d4922-1387-4951-a20a-3257ddfc225e",
     "showTitle": false,
     "tableResultSettingsMap": {},
     "title": ""
    }
   },
   "outputs": [],
   "source": [
    "producto = (spark.read.parquet(\"/mnt/ybenitezcont/proyectofinal/capaplata/Product.parquet\"))\n",
    "producto.createOrReplaceTempView(\"s_producto\")"
   ]
  },
  {
   "cell_type": "code",
   "execution_count": 0,
   "metadata": {
    "application/vnd.databricks.v1+cell": {
     "cellMetadata": {
      "byteLimit": 2048000,
      "rowLimit": 10000
     },
     "inputWidgets": {},
     "nuid": "d9854186-bb9c-41ac-bd33-25ebf42065bb",
     "showTitle": false,
     "tableResultSettingsMap": {},
     "title": ""
    }
   },
   "outputs": [],
   "source": [
    "categoria = (spark.read.parquet(\"/mnt/ybenitezcont/proyectofinal/capaplata/Categoria.parquet\"))\n",
    "categoria.createOrReplaceTempView(\"s_categoria\")"
   ]
  },
  {
   "cell_type": "code",
   "execution_count": 0,
   "metadata": {
    "application/vnd.databricks.v1+cell": {
     "cellMetadata": {
      "byteLimit": 2048000,
      "rowLimit": 10000
     },
     "inputWidgets": {},
     "nuid": "adb2a221-92e9-46f3-b6bd-57eafb3a503a",
     "showTitle": false,
     "tableResultSettingsMap": {},
     "title": ""
    }
   },
   "outputs": [],
   "source": [
    "subcategoria = (spark.read.parquet(\"/mnt/ybenitezcont/proyectofinal/capaplata/SubCategoria.parquet\"))\n",
    "subcategoria.createOrReplaceTempView(\"s_subcategoria\")"
   ]
  },
  {
   "cell_type": "code",
   "execution_count": 0,
   "metadata": {
    "application/vnd.databricks.v1+cell": {
     "cellMetadata": {
      "byteLimit": 2048000,
      "implicitDf": true,
      "rowLimit": 10000
     },
     "inputWidgets": {},
     "nuid": "c57290f4-6342-4f77-97a7-c710ed62ee9f",
     "showTitle": false,
     "tableResultSettingsMap": {},
     "title": ""
    }
   },
   "outputs": [
    {
     "output_type": "display_data",
     "data": {
      "text/html": [
       "<style scoped>\n",
       "  .table-result-container {\n",
       "    max-height: 300px;\n",
       "    overflow: auto;\n",
       "  }\n",
       "  table, th, td {\n",
       "    border: 1px solid black;\n",
       "    border-collapse: collapse;\n",
       "  }\n",
       "  th, td {\n",
       "    padding: 5px;\n",
       "  }\n",
       "  th {\n",
       "    text-align: left;\n",
       "  }\n",
       "</style><div class='table-result-container'><table class='table-result'><thead style='background-color: white'><tr></tr></thead><tbody></tbody></table></div>"
      ]
     },
     "metadata": {
      "application/vnd.databricks.v1+output": {
       "addedWidgets": {},
       "aggData": [],
       "aggError": "",
       "aggOverflow": false,
       "aggSchema": [],
       "aggSeriesLimitReached": false,
       "aggType": "",
       "arguments": {},
       "columnCustomDisplayInfos": {},
       "data": [],
       "datasetInfos": [],
       "dbfsResultPath": null,
       "isJsonSchema": true,
       "metadata": {
        "dataframeName": null
       },
       "overflow": false,
       "plotOptions": {
        "customPlotOptions": {},
        "displayType": "table",
        "pivotAggregation": null,
        "pivotColumns": null,
        "xColumns": null,
        "yColumns": null
       },
       "removedWidgets": [],
       "schema": [],
       "type": "table"
      }
     },
     "output_type": "display_data"
    }
   ],
   "source": [
    "%sql\n",
    "\n",
    "DROP TABLE IF EXISTS Fact_Product;\n",
    "\n",
    "CREATE TEMP VIEW Fact_Product\n",
    "AS\n",
    "SELECT P.Cod_Producto, P.Nombre AS Producto, S.Nombre AS Subcategoria, C.Nombre AS Categoria\n",
    "FROM s_producto P\n",
    "JOIN s_subcategoria S ON P.Cod_Subcategoria = S.Cod_Subcategoria\n",
    "JOIN s_categoria C ON S.Cod_Categoria = C.Cod_Categoria; "
   ]
  },
  {
   "cell_type": "code",
   "execution_count": 0,
   "metadata": {
    "application/vnd.databricks.v1+cell": {
     "cellMetadata": {
      "byteLimit": 2048000,
      "rowLimit": 10000
     },
     "inputWidgets": {},
     "nuid": "6253a97c-628f-449b-b314-def897146f82",
     "showTitle": false,
     "tableResultSettingsMap": {},
     "title": ""
    }
   },
   "outputs": [],
   "source": [
    "dfFactProducto = spark.table(\"Fact_Product\")\n",
    "dfFactProducto.write.mode(\"overwrite\").parquet(\"/mnt/ybenitezcont/proyectofinal/capaoro/Fact_Producto.parquet\")"
   ]
  },
  {
   "cell_type": "code",
   "execution_count": 0,
   "metadata": {
    "application/vnd.databricks.v1+cell": {
     "cellMetadata": {
      "byteLimit": 2048000,
      "rowLimit": 10000
     },
     "inputWidgets": {},
     "nuid": "c2807a59-b4f5-450d-95c1-dd9e297b55fc",
     "showTitle": false,
     "tableResultSettingsMap": {},
     "title": ""
    }
   },
   "outputs": [
    {
     "output_type": "stream",
     "name": "stdout",
     "output_type": "stream",
     "text": [
      "/mnt/ybenitezcont has been unmounted.\n"
     ]
    },
    {
     "output_type": "execute_result",
     "data": {
      "text/plain": [
       "True"
      ]
     },
     "execution_count": 5,
     "metadata": {},
     "output_type": "execute_result"
    }
   ],
   "source": [
    "dbutils.fs.unmount(\"/mnt/ybenitezcont\")"
   ]
  }
 ],
 "metadata": {
  "application/vnd.databricks.v1+notebook": {
   "dashboards": [],
   "environmentMetadata": {
    "base_environment": "",
    "client": "1"
   },
   "language": "python",
   "notebookMetadata": {
    "mostRecentlyExecutedCommandWithImplicitDF": {
     "commandId": 621102025082520,
     "dataframes": [
      "_sqldf"
     ]
    },
    "pythonIndentUnit": 4
   },
   "notebookName": "Transformacion capa plata hacia capa oro",
   "widgets": {}
  },
  "language_info": {
   "name": "python"
  }
 },
 "nbformat": 4,
 "nbformat_minor": 0
}
